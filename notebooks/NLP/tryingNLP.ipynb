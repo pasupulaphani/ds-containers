{
 "cells": [
  {
   "cell_type": "code",
   "execution_count": 4,
   "metadata": {
    "collapsed": false
   },
   "outputs": [
    {
     "name": "stdout",
     "output_type": "stream",
     "text": [
      "Make sure thatNLTK is >3.2.\n",
      "Your current version is 3.2.1\n"
     ]
    }
   ],
   "source": [
    "import nltk\n",
    "#download all required corpuses\n",
    "#nltk.download('averaged_perceptron_tagger') #this is for nltk.tag.pos_tag\n",
    "#nltk.download(\"stopwords\")  #this is for stop-words\n",
    "#nltk.download('wordnet') #for lemmatizer.lemmatize(word)\n",
    "print('Make sure thatNLTK is >3.2.\\nYour current version is {}'.format(nltk.__version__))\n",
    "\n",
    "text = \"\"\"The Buddha, the Godhead, resides quite as comfortably in the circuits of a digital\n",
    "computer or the gears of a cycle transmission as he does at the top of a mountain\n",
    "or in the petals of a flower. To think otherwise is to demean the Buddha...which is\n",
    "to demean oneself.\"\"\"\n",
    "\n",
    "# Used when tokenizing words\n",
    "sentence_re = '''      ([A-Z])(\\.[A-Z])+\\.?  # abbreviations, e.g. U.S.A.\n",
    "    | \\w+(-\\w+)*            # words with optional internal hyphens\n",
    "    | \\$?\\d+(\\.\\d+)?%?      # currency and percentages, e.g. $12.40, 82%\n",
    "    | \\.\\.\\.                # ellipsis\n",
    "    | [][.,;\"'?():-_`]\\s*      # these are separate tokens\n",
    "    \n",
    "'''"
   ]
  },
  {
   "cell_type": "code",
   "execution_count": 16,
   "metadata": {
    "collapsed": false
   },
   "outputs": [
    {
     "name": "stdout",
     "output_type": "stream",
     "text": [
      "[('The', 'DT'), ('Buddha', 'NNP'), ('the', 'DT'), ('Godhead', 'NNP'), ('resides', 'VBZ'), ('quite', 'RB'), ('as', 'IN'), ('comfortably', 'RB'), ('in', 'IN'), ('the', 'DT'), ('circuits', 'NNS'), ('of', 'IN'), ('a', 'DT'), ('digital', 'JJ'), ('computer', 'NN'), ('or', 'CC'), ('the', 'DT'), ('gears', 'NNS'), ('of', 'IN'), ('a', 'DT'), ('cycle', 'NN'), ('transmission', 'NN'), ('as', 'IN'), ('he', 'PRP'), ('does', 'VBZ'), ('at', 'IN'), ('the', 'DT'), ('top', 'NN'), ('of', 'IN'), ('a', 'DT'), ('mountain', 'NN'), ('or', 'CC'), ('in', 'IN'), ('the', 'DT'), ('petals', 'NNS'), ('of', 'IN'), ('a', 'DT'), ('flower', 'NN'), ('To', 'TO'), ('think', 'VB'), ('otherwise', 'RB'), ('is', 'VBZ'), ('to', 'TO'), ('demean', 'VB'), ('the', 'DT'), ('Buddha', 'NNP'), ('which', 'WDT'), ('is', 'VBZ'), ('to', 'TO'), ('demean', 'VB'), ('oneself', 'PRP')]\n"
     ]
    }
   ],
   "source": [
    "toks = nltk.regexp_tokenize(text, r'[,\\.\\?!\\n \"]\\s*',gaps=True)\n",
    "#toks = nltk.regexp_tokenize(text, sentence_re,gaps=True)\n",
    "\n",
    "#print(toks)\n",
    "postoks = nltk.tag.pos_tag(toks)\n",
    "print(postoks)"
   ]
  },
  {
   "cell_type": "code",
   "execution_count": 7,
   "metadata": {
    "collapsed": false
   },
   "outputs": [],
   "source": [
    "#Taken from Su Nam Kim Paper...\n",
    "grammar = r\"\"\"\n",
    "    NBAR:\n",
    "        {<NN.*|JJ>*<NN.*>}  # Nouns and Adjectives, terminated with Nouns\n",
    "        \n",
    "    NP:\n",
    "        {<NBAR>}\n",
    "        {<NBAR><IN><NBAR>}  # Above, connected with in/of/etc...\n",
    "\"\"\"\n",
    "chunker = nltk.RegexpParser(grammar)\n",
    "tree = chunker.parse(postoks)\n",
    "\n"
   ]
  },
  {
   "cell_type": "code",
   "execution_count": 12,
   "metadata": {
    "collapsed": false,
    "scrolled": false
   },
   "outputs": [],
   "source": [
    "from nltk.corpus import stopwords\n",
    "stopwords = stopwords.words('english')\n",
    "\n",
    "lemmatizer = nltk.WordNetLemmatizer()\n",
    "stemmer = nltk.stem.porter.PorterStemmer()\n",
    "\n",
    "\n",
    "def leaves(tree):\n",
    "    \"\"\"Finds NP (nounphrase) leaf nodes of a chunk tree.\"\"\"\n",
    "    for subtree in tree.subtrees(filter = lambda t: t.label()=='NP'):\n",
    "        yield subtree.leaves()\n",
    "\n",
    "def normalise(word):\n",
    "    \"\"\"Normalises words to lowercase and stems and lemmatizes it.\"\"\"\n",
    "    word = word.lower()\n",
    "    word = stemmer.stem_word(word)\n",
    "    word = lemmatizer.lemmatize(word) #need lib for that\n",
    "    return word\n",
    "\n",
    "def acceptable_word(word):\n",
    "    \"\"\"Checks conditions for acceptable word: length, stopword.\"\"\"\n",
    "    accepted = bool(2 <= len(word) <= 40\n",
    "        and word.lower() not in stopwords)\n",
    "    return accepted\n",
    "\n",
    "\n",
    "def get_terms(tree):\n",
    "    for leaf in leaves(tree):\n",
    "        term = [ normalise(w) for w,t in leaf if acceptable_word(w) ]\n",
    "        yield term"
   ]
  },
  {
   "cell_type": "code",
   "execution_count": 13,
   "metadata": {
    "collapsed": false
   },
   "outputs": [
    {
     "name": "stdout",
     "output_type": "stream",
     "text": [
      "buddha\n",
      "godhead\n",
      "circuit\n",
      "digit\n",
      "comput\n",
      "gear\n",
      "cycl\n",
      "transmiss\n",
      "top\n",
      "mountain\n",
      "petal\n",
      "flower\n",
      "buddha\n"
     ]
    }
   ],
   "source": [
    "terms = get_terms(tree)\n",
    "\n",
    "for term in terms:\n",
    "    for word in term:\n",
    "        print(word)\n",
    "    print"
   ]
  },
  {
   "cell_type": "code",
   "execution_count": null,
   "metadata": {
    "collapsed": true
   },
   "outputs": [],
   "source": []
  },
  {
   "cell_type": "code",
   "execution_count": null,
   "metadata": {
    "collapsed": true
   },
   "outputs": [],
   "source": []
  }
 ],
 "metadata": {
  "kernelspec": {
   "display_name": "Python 3",
   "language": "python",
   "name": "python3"
  },
  "language_info": {
   "codemirror_mode": {
    "name": "ipython",
    "version": 3
   },
   "file_extension": ".py",
   "mimetype": "text/x-python",
   "name": "python",
   "nbconvert_exporter": "python",
   "pygments_lexer": "ipython3",
   "version": "3.4.3"
  }
 },
 "nbformat": 4,
 "nbformat_minor": 0
}
